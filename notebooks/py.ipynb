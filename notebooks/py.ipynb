{
 "cells": [
  {
   "cell_type": "markdown",
   "id": "ba956510",
   "metadata": {},
   "source": [
    "    .gitignore \n",
    "\n",
    "- do not include thats file which is written inside gitignore\n",
    "\n",
    "##### ✅ Examples:\n",
    "\n",
    "    .gitignore Entry\tWhat it Ignores\n",
    "- *.ipynb --------------> All Jupyter Notebook files\n",
    "- my_notebook.ipynb\t--------------> Just one specific notebook file \n",
    "- notebooks/\t-------------->Whole folder named notebooks"
   ]
  },
  {
   "cell_type": "markdown",
   "id": "9c6d743a",
   "metadata": {},
   "source": [
    "### Steps to create\n",
    "    CONDA CREATE\n",
    "    |\n",
    "    README FILE CREATE\n",
    "    |\n",
    "    create \"requirements.txt\" \n",
    "    |\n",
    "    create folder for Project Package\n",
    "    |       |\n",
    "    |       components,constant,entity,exception,logging,pipeline,utils\n",
    "    |\n",
    "    Dockerfile\n",
    "    |\n",
    "    setup.py\n",
    "    \n"
   ]
  },
  {
   "cell_type": "markdown",
   "id": "4b582000",
   "metadata": {},
   "source": []
  },
  {
   "cell_type": "markdown",
   "id": "6982cd8c",
   "metadata": {},
   "source": [
    "### }- Why create __init__.py inside the folder \n",
    "    ans-> to make that folder as a package"
   ]
  },
  {
   "cell_type": "markdown",
   "id": "c6983c56",
   "metadata": {},
   "source": [
    "### 2). -e.\n",
    "\n",
    "this is refer to \"setup.py\" python file \n"
   ]
  },
  {
   "cell_type": "markdown",
   "id": "ce442e6c",
   "metadata": {},
   "source": []
  },
  {
   "cell_type": "markdown",
   "id": "ddd2f866",
   "metadata": {},
   "source": []
  },
  {
   "cell_type": "markdown",
   "id": "504c8b96",
   "metadata": {},
   "source": []
  },
  {
   "cell_type": "markdown",
   "id": "263837be",
   "metadata": {},
   "source": []
  }
 ],
 "metadata": {
  "language_info": {
   "name": "python"
  }
 },
 "nbformat": 4,
 "nbformat_minor": 5
}
